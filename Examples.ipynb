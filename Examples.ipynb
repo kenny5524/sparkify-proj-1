{
 "cells": [
  {
   "cell_type": "code",
   "execution_count": 1,
   "id": "679cde29",
   "metadata": {},
   "outputs": [],
   "source": [
    "import pandas as pd"
   ]
  },
  {
   "cell_type": "code",
   "execution_count": 3,
   "id": "b07c67e6",
   "metadata": {},
   "outputs": [],
   "source": [
    "dat = {\"num_songs\": 1, \"artist_id\": \"ARD7TVE1187B99BFB1\", \"artist_latitude\": None, \"artist_longitude\": None, \"artist_location\": \"California - LA\", \"artist_name\": \"Casual\", \"song_id\": \"SOMZWCG12A8C13C480\", \"title\": \"I Didn't Mean To\", \"duration\": 218.93179, \"year\": 0}"
   ]
  },
  {
   "cell_type": "code",
   "execution_count": 12,
   "id": "4d1d3c9c",
   "metadata": {},
   "outputs": [],
   "source": [
    "daga = pd.DataFrame(data = dat, index = [18])"
   ]
  },
  {
   "cell_type": "code",
   "execution_count": 15,
   "id": "1e9b4af2",
   "metadata": {},
   "outputs": [
    {
     "name": "stdout",
     "output_type": "stream",
     "text": [
      "('SOMZWCG12A8C13C480', \"I Didn't Mean To\", 'ARD7TVE1187B99BFB1', 0, 218.93179)\n",
      "('ARD7TVE1187B99BFB1', 'Casual', 'California - LA', None, None)\n"
     ]
    }
   ],
   "source": [
    "tal = (daga.values[0][6],daga.values[0][7],daga.values[0][1],daga.values[0][9],daga.values[0][8])\n",
    "print(tal)\n",
    "\n",
    "\n",
    "gal = (daga.values[0][1],daga.values[0][5],daga.values[0][4],daga.values[0][2],daga.values[0][3])\n",
    "print(gal)"
   ]
  },
  {
   "cell_type": "code",
   "execution_count": 16,
   "id": "f1136ecd",
   "metadata": {},
   "outputs": [
    {
     "data": {
      "text/plain": [
       "{'artist': 'Survivor',\n",
       " 'auth': 'Logged In',\n",
       " 'firstName': 'Jayden',\n",
       " 'gender': 'M',\n",
       " 'itemInSession': 0,\n",
       " 'lastName': 'Fox',\n",
       " 'length': 245.36771,\n",
       " 'level': 'free',\n",
       " 'location': 'New Orleans-Metairie, LA',\n",
       " 'method': 'PUT',\n",
       " 'page': 'NextSong',\n",
       " 'registration': 1541033612796.0,\n",
       " 'sessionId': 100,\n",
       " 'song': 'Eye Of The Tiger',\n",
       " 'status': 200,\n",
       " 'ts': 1541110994796,\n",
       " 'userAgent': '\"Mozilla\\\\/5.0 (Windows NT 6.3; WOW64) AppleWebKit\\\\/537.36 (KHTML, like Gecko) Chrome\\\\/36.0.1985.143 Safari\\\\/537.36\"',\n",
       " 'userId': '101'}"
      ]
     },
     "execution_count": 16,
     "metadata": {},
     "output_type": "execute_result"
    }
   ],
   "source": [
    "log = {\"artist\":None,\"auth\":\"Logged In\",\"firstName\":\"Walter\",\"gender\":\"M\",\"itemInSession\":0,\"lastName\":\"Frye\",\"length\":None,\"level\":\"free\",\"location\":\"San Francisco-Oakland-Hayward, CA\",\"method\":\"GET\",\"page\":\"Home\",\"registration\":1540919166796.0,\"sessionId\":38,\"song\":None,\"status\":200,\"ts\":1541105830796,\"userAgent\":\"\\\"Mozilla\\/5.0 (Macintosh; Intel Mac OS X 10_9_4) AppleWebKit\\/537.36 (KHTML, like Gecko) Chrome\\/36.0.1985.143 Safari\\/537.36\\\"\",\"userId\":\"39\"}\n",
    "{\"artist\":None,\"auth\":\"Logged In\",\"firstName\":\"Kaylee\",\"gender\":\"F\",\"itemInSession\":0,\"lastName\":\"Summers\",\"length\":None,\"level\":\"free\",\"location\":\"Phoenix-Mesa-Scottsdale, AZ\",\"method\":\"GET\",\"page\":\"Home\",\"registration\":1540344794796.0,\"sessionId\":139,\"song\":None,\"status\":200,\"ts\":1541106106796,\"userAgent\":\"\\\"Mozilla\\/5.0 (Windows NT 6.1; WOW64) AppleWebKit\\/537.36 (KHTML, like Gecko) Chrome\\/35.0.1916.153 Safari\\/537.36\\\"\",\"userId\":\"8\"}\n",
    "{\"artist\":\"Des'ree\",\"auth\":\"Logged In\",\"firstName\":\"Kaylee\",\"gender\":\"F\",\"itemInSession\":1,\"lastName\":\"Summers\",\"length\":246.30812,\"level\":\"free\",\"location\":\"Phoenix-Mesa-Scottsdale, AZ\",\"method\":\"PUT\",\"page\":\"NextSong\",\"registration\":1540344794796.0,\"sessionId\":139,\"song\":\"You Gotta Be\",\"status\":200,\"ts\":1541106106796,\"userAgent\":\"\\\"Mozilla\\/5.0 (Windows NT 6.1; WOW64) AppleWebKit\\/537.36 (KHTML, like Gecko) Chrome\\/35.0.1916.153 Safari\\/537.36\\\"\",\"userId\":\"8\"}\n",
    "{\"artist\":None,\"auth\":\"Logged In\",\"firstName\":\"Kaylee\",\"gender\":\"F\",\"itemInSession\":2,\"lastName\":\"Summers\",\"length\":None,\"level\":\"free\",\"location\":\"Phoenix-Mesa-Scottsdale, AZ\",\"method\":\"GET\",\"page\":\"Upgrade\",\"registration\":1540344794796.0,\"sessionId\":139,\"song\":None,\"status\":200,\"ts\":1541106132796,\"userAgent\":\"\\\"Mozilla\\/5.0 (Windows NT 6.1; WOW64) AppleWebKit\\/537.36 (KHTML, like Gecko) Chrome\\/35.0.1916.153 Safari\\/537.36\\\"\",\"userId\":\"8\"}\n",
    "{\"artist\":\"Mr Oizo\",\"auth\":\"Logged In\",\"firstName\":\"Kaylee\",\"gender\":\"F\",\"itemInSession\":3,\"lastName\":\"Summers\",\"length\":144.03873,\"level\":\"free\",\"location\":\"Phoenix-Mesa-Scottsdale, AZ\",\"method\":\"PUT\",\"page\":\"NextSong\",\"registration\":1540344794796.0,\"sessionId\":139,\"song\":\"Flat 55\",\"status\":200,\"ts\":1541106352796,\"userAgent\":\"\\\"Mozilla\\/5.0 (Windows NT 6.1; WOW64) AppleWebKit\\/537.36 (KHTML, like Gecko) Chrome\\/35.0.1916.153 Safari\\/537.36\\\"\",\"userId\":\"8\"}\n",
    "{\"artist\":\"Tamba Trio\",\"auth\":\"Logged In\",\"firstName\":\"Kaylee\",\"gender\":\"F\",\"itemInSession\":4,\"lastName\":\"Summers\",\"length\":177.18812,\"level\":\"free\",\"location\":\"Phoenix-Mesa-Scottsdale, AZ\",\"method\":\"PUT\",\"page\":\"NextSong\",\"registration\":1540344794796.0,\"sessionId\":139,\"song\":\"Quem Quiser Encontrar O Amor\",\"status\":200,\"ts\":1541106496796,\"userAgent\":\"\\\"Mozilla\\/5.0 (Windows NT 6.1; WOW64) AppleWebKit\\/537.36 (KHTML, like Gecko) Chrome\\/35.0.1916.153 Safari\\/537.36\\\"\",\"userId\":\"8\"}\n",
    "{\"artist\":\"The Mars Volta\",\"auth\":\"Logged In\",\"firstName\":\"Kaylee\",\"gender\":\"F\",\"itemInSession\":5,\"lastName\":\"Summers\",\"length\":380.42077,\"level\":\"free\",\"location\":\"Phoenix-Mesa-Scottsdale, AZ\",\"method\":\"PUT\",\"page\":\"NextSong\",\"registration\":1540344794796.0,\"sessionId\":139,\"song\":\"Eriatarka\",\"status\":200,\"ts\":1541106673796,\"userAgent\":\"\\\"Mozilla\\/5.0 (Windows NT 6.1; WOW64) AppleWebKit\\/537.36 (KHTML, like Gecko) Chrome\\/35.0.1916.153 Safari\\/537.36\\\"\",\"userId\":\"8\"}\n",
    "{\"artist\":\"Infected Mushroom\",\"auth\":\"Logged In\",\"firstName\":\"Kaylee\",\"gender\":\"F\",\"itemInSession\":6,\"lastName\":\"Summers\",\"length\":440.2673,\"level\":\"free\",\"location\":\"Phoenix-Mesa-Scottsdale, AZ\",\"method\":\"PUT\",\"page\":\"NextSong\",\"registration\":1540344794796.0,\"sessionId\":139,\"song\":\"Becoming Insane\",\"status\":200,\"ts\":1541107053796,\"userAgent\":\"\\\"Mozilla\\/5.0 (Windows NT 6.1; WOW64) AppleWebKit\\/537.36 (KHTML, like Gecko) Chrome\\/35.0.1916.153 Safari\\/537.36\\\"\",\"userId\":\"8\"}\n",
    "{\"artist\":\"Blue October \\/ Imogen Heap\",\"auth\":\"Logged In\",\"firstName\":\"Kaylee\",\"gender\":\"F\",\"itemInSession\":7,\"lastName\":\"Summers\",\"length\":241.3971,\"level\":\"free\",\"location\":\"Phoenix-Mesa-Scottsdale, AZ\",\"method\":\"PUT\",\"page\":\"NextSong\",\"registration\":1540344794796.0,\"sessionId\":139,\"song\":\"Congratulations\",\"status\":200,\"ts\":1541107493796,\"userAgent\":\"\\\"Mozilla\\/5.0 (Windows NT 6.1; WOW64) AppleWebKit\\/537.36 (KHTML, like Gecko) Chrome\\/35.0.1916.153 Safari\\/537.36\\\"\",\"userId\":\"8\"}\n",
    "{\"artist\":\"Girl Talk\",\"auth\":\"Logged In\",\"firstName\":\"Kaylee\",\"gender\":\"F\",\"itemInSession\":8,\"lastName\":\"Summers\",\"length\":160.15628,\"level\":\"free\",\"location\":\"Phoenix-Mesa-Scottsdale, AZ\",\"method\":\"PUT\",\"page\":\"NextSong\",\"registration\":1540344794796.0,\"sessionId\":139,\"song\":\"Once again\",\"status\":200,\"ts\":1541107734796,\"userAgent\":\"\\\"Mozilla\\/5.0 (Windows NT 6.1; WOW64) AppleWebKit\\/537.36 (KHTML, like Gecko) Chrome\\/35.0.1916.153 Safari\\/537.36\\\"\",\"userId\":\"8\"}\n",
    "{\"artist\":\"Black Eyed Peas\",\"auth\":\"Logged In\",\"firstName\":\"Sylvie\",\"gender\":\"F\",\"itemInSession\":0,\"lastName\":\"Cruz\",\"length\":214.93506,\"level\":\"free\",\"location\":\"Washington-Arlington-Alexandria, DC-VA-MD-WV\",\"method\":\"PUT\",\"page\":\"NextSong\",\"registration\":1540266185796.0,\"sessionId\":9,\"song\":\"Pump It\",\"status\":200,\"ts\":1541108520796,\"userAgent\":\"\\\"Mozilla\\/5.0 (Macintosh; Intel Mac OS X 10_9_4) AppleWebKit\\/537.77.4 (KHTML, like Gecko) Version\\/7.0.5 Safari\\/537.77.4\\\"\",\"userId\":\"10\"}\n",
    "{\"artist\":None,\"auth\":\"Logged In\",\"firstName\":\"Ryan\",\"gender\":\"M\",\"itemInSession\":0,\"lastName\":\"Smith\",\"length\":None,\"level\":\"free\",\"location\":\"San Jose-Sunnyvale-Santa Clara, CA\",\"method\":\"GET\",\"page\":\"Home\",\"registration\":1541016707796.0,\"sessionId\":169,\"song\":None,\"status\":200,\"ts\":1541109015796,\"userAgent\":\"\\\"Mozilla\\/5.0 (X11; Linux x86_64) AppleWebKit\\/537.36 (KHTML, like Gecko) Ubuntu Chromium\\/36.0.1985.125 Chrome\\/36.0.1985.125 Safari\\/537.36\\\"\",\"userId\":\"26\"}\n",
    "{\"artist\":\"Fall Out Boy\",\"auth\":\"Logged In\",\"firstName\":\"Ryan\",\"gender\":\"M\",\"itemInSession\":1,\"lastName\":\"Smith\",\"length\":200.72444,\"level\":\"free\",\"location\":\"San Jose-Sunnyvale-Santa Clara, CA\",\"method\":\"PUT\",\"page\":\"NextSong\",\"registration\":1541016707796.0,\"sessionId\":169,\"song\":\"Nobody Puts Baby In The Corner\",\"status\":200,\"ts\":1541109125796,\"userAgent\":\"\\\"Mozilla\\/5.0 (X11; Linux x86_64) AppleWebKit\\/537.36 (KHTML, like Gecko) Ubuntu Chromium\\/36.0.1985.125 Chrome\\/36.0.1985.125 Safari\\/537.36\\\"\",\"userId\":\"26\"}\n",
    "{\"artist\":\"M.I.A.\",\"auth\":\"Logged In\",\"firstName\":\"Ryan\",\"gender\":\"M\",\"itemInSession\":2,\"lastName\":\"Smith\",\"length\":233.7171,\"level\":\"free\",\"location\":\"San Jose-Sunnyvale-Santa Clara, CA\",\"method\":\"PUT\",\"page\":\"NextSong\",\"registration\":1541016707796.0,\"sessionId\":169,\"song\":\"Mango Pickle Down River (With The Wilcannia Mob)\",\"status\":200,\"ts\":1541109325796,\"userAgent\":\"\\\"Mozilla\\/5.0 (X11; Linux x86_64) AppleWebKit\\/537.36 (KHTML, like Gecko) Ubuntu Chromium\\/36.0.1985.125 Chrome\\/36.0.1985.125 Safari\\/537.36\\\"\",\"userId\":\"26\"}\n",
    "{\"artist\":\"Survivor\",\"auth\":\"Logged In\",\"firstName\":\"Jayden\",\"gender\":\"M\",\"itemInSession\":0,\"lastName\":\"Fox\",\"length\":245.36771,\"level\":\"free\",\"location\":\"New Orleans-Metairie, LA\",\"method\":\"PUT\",\"page\":\"NextSong\",\"registration\":1541033612796.0,\"sessionId\":100,\"song\":\"Eye Of The Tiger\",\"status\":200,\"ts\":1541110994796,\"userAgent\":\"\\\"Mozilla\\/5.0 (Windows NT 6.3; WOW64) AppleWebKit\\/537.36 (KHTML, like Gecko) Chrome\\/36.0.1985.143 Safari\\/537.36\\\"\",\"userId\":\"101\"}"
   ]
  },
  {
   "cell_type": "code",
   "execution_count": 17,
   "id": "011e4b96",
   "metadata": {},
   "outputs": [],
   "source": [
    "dems = pd.DataFrame(data =log, index = [1,2,3,4,5,6,7,8,9,10,11,12,13,14,15,16,17,18] )"
   ]
  },
  {
   "cell_type": "code",
   "execution_count": 21,
   "id": "d7ed9de2",
   "metadata": {},
   "outputs": [],
   "source": [
    "New_dems= dems[dems[\"page\"] == \"NextSong\"]"
   ]
  },
  {
   "cell_type": "code",
   "execution_count": 23,
   "id": "887da803",
   "metadata": {},
   "outputs": [
    {
     "name": "stdout",
     "output_type": "stream",
     "text": [
      "Empty DataFrame\n",
      "Columns: [artist, auth, firstName, gender, itemInSession, lastName, length, level, location, method, page, registration, sessionId, song, status, ts, userAgent, userId]\n",
      "Index: []\n"
     ]
    }
   ],
   "source": [
    "print(New_dems)"
   ]
  },
  {
   "cell_type": "code",
   "execution_count": null,
   "id": "ae8482e4",
   "metadata": {},
   "outputs": [],
   "source": []
  }
 ],
 "metadata": {
  "kernelspec": {
   "display_name": "Python 3",
   "language": "python",
   "name": "python3"
  },
  "language_info": {
   "codemirror_mode": {
    "name": "ipython",
    "version": 3
   },
   "file_extension": ".py",
   "mimetype": "text/x-python",
   "name": "python",
   "nbconvert_exporter": "python",
   "pygments_lexer": "ipython3",
   "version": "3.8.8"
  }
 },
 "nbformat": 4,
 "nbformat_minor": 5
}
